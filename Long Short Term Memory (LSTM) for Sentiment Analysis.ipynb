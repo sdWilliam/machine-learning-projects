{
 "cells": [
  {
   "cell_type": "markdown",
   "metadata": {},
   "source": [
    "# Long Short-Term Memory (LSTM) for Sentiment Analysis\n",
    "This notebook goes through the implementation of a Long Short Term Memory (LSTM) Recurrent Neural Network, for performing Sentiment Analysis on a set of Amazon Fine Food reviews."
   ]
  },
  {
   "cell_type": "markdown",
   "metadata": {},
   "source": [
    "### Table of contents\n",
    "\n",
    "1. [Introduction](#Introduction)<br>\n",
    "    1.1. [Long Short-Term Memory (LSTM)](#LSTM)<br>\n",
    "    1.2. [Sentiment analysis](#Sentiment-analysis)\n",
    "2. [Preparations](#Preparations)<br>\n",
    "3. [Data](#Data)<br>\n",
    "    3.1. [Load data](#Load-data)<br>\n",
    "    3.2. [Choose Features](#Choose-features)<br>\n",
    "    3.3. [Data Analysis](#Data-analysis)<br>\n",
    "4. [Feature Engineering](#Feature-engineering)<br>\n",
    "    4.1. [Preprocess Feature Vector](Preprocess-feature-vector)<br>\n",
    "5. [Modelling](#Modelling)<br>\n",
    "    5.1. [Build the Model](#Build-the-model)<br>\n",
    "    5.2. [Analyze Results](#Analyze-results)<br>\n",
    "    5.3. [Conclusions](#Conclusions)"
   ]
  },
  {
   "cell_type": "markdown",
   "metadata": {},
   "source": [
    "## 1. Introduction <a id=\"Introduction\"/>\n",
    "\n",
    "### 1.1 Long Short-Term Memory (LSTM)  <a id=\"LSTM\"/>\n",
    "LSTM is a Recurrent Neural Network (RNN) architecture that provides a long term memory, in addition to the short term memory present in traditional RNNs. The ability to persist information over time, and learn long-term dependencies, allows LSTM to counteract an issue affecting traditional RNNs - known as the vanishing gradient problem. It is also this temporal dimension, which makes LSTMs a good fit for tasks involving time series data.\n",
    "\n",
    "### 1.2 Sentiment analysis  <a id=\"Sentiment-analysis\"/>\n",
    "Sentiment Analysis is the use of Natural Language Processing techniques to identify, extract, and study the subjective information of a given text. In this notebook, sentiment analysis in used in order to predict the polarity – **positive**, **negative** or **neutral** – of a set of reviews."
   ]
  },
  {
   "cell_type": "markdown",
   "metadata": {},
   "source": [
    "## 2. Preparations <a id=\"Preparations\"/>"
   ]
  },
  {
   "cell_type": "code",
   "execution_count": 1,
   "metadata": {},
   "outputs": [
    {
     "name": "stderr",
     "output_type": "stream",
     "text": [
      "[nltk_data] Downloading package stopwords to\n",
      "[nltk_data]     /Users/william/nltk_data...\n",
      "[nltk_data]   Package stopwords is already up-to-date!\n",
      "[nltk_data] Downloading package wordnet to /Users/william/nltk_data...\n",
      "[nltk_data]   Package wordnet is already up-to-date!\n"
     ]
    },
    {
     "data": {
      "text/plain": [
       "True"
      ]
     },
     "execution_count": 1,
     "metadata": {},
     "output_type": "execute_result"
    }
   ],
   "source": [
    "# Import required libraries\n",
    "import pandas as pd\n",
    "import matplotlib.pyplot as plt\n",
    "import numpy as np\n",
    "import re\n",
    "from sklearn.model_selection import train_test_split\n",
    "import string\n",
    "from keras.preprocessing.text import Tokenizer\n",
    "from keras.preprocessing.sequence import pad_sequences\n",
    "from keras.models import Sequential\n",
    "from keras.layers.core import Dense\n",
    "from keras.layers import LSTM, Dropout, SpatialDropout1D\n",
    "from keras.layers.embeddings import Embedding\n",
    "import nltk\n",
    "from nltk.corpus import stopwords\n",
    "from nltk.tokenize import word_tokenize\n",
    "from nltk.stem import WordNetLemmatizer\n",
    "nltk.download('stopwords')\n",
    "nltk.download('wordnet')"
   ]
  },
  {
   "cell_type": "markdown",
   "metadata": {},
   "source": [
    "## 3. Data <a id=\"Data\"/>"
   ]
  },
  {
   "cell_type": "markdown",
   "metadata": {},
   "source": [
    "The data used in this notebook is a set of reviews of fine foods from amazon. The dataset consists of 568,454 individual reviews, and can be found from the following address: <a href=\"https://www.kaggle.com/snap/amazon-fine-food-reviews\">Amazon Fine Food Reviews</a>."
   ]
  },
  {
   "cell_type": "markdown",
   "metadata": {},
   "source": [
    "### 3.1 Load the dataset <a id=\"Load-data\"/>"
   ]
  },
  {
   "cell_type": "code",
   "execution_count": 2,
   "metadata": {},
   "outputs": [
    {
     "data": {
      "text/html": [
       "<div>\n",
       "<style scoped>\n",
       "    .dataframe tbody tr th:only-of-type {\n",
       "        vertical-align: middle;\n",
       "    }\n",
       "\n",
       "    .dataframe tbody tr th {\n",
       "        vertical-align: top;\n",
       "    }\n",
       "\n",
       "    .dataframe thead th {\n",
       "        text-align: right;\n",
       "    }\n",
       "</style>\n",
       "<table border=\"1\" class=\"dataframe\">\n",
       "  <thead>\n",
       "    <tr style=\"text-align: right;\">\n",
       "      <th></th>\n",
       "      <th>Id</th>\n",
       "      <th>ProductId</th>\n",
       "      <th>UserId</th>\n",
       "      <th>ProfileName</th>\n",
       "      <th>HelpfulnessNumerator</th>\n",
       "      <th>HelpfulnessDenominator</th>\n",
       "      <th>Score</th>\n",
       "      <th>Time</th>\n",
       "      <th>Summary</th>\n",
       "      <th>Text</th>\n",
       "    </tr>\n",
       "  </thead>\n",
       "  <tbody>\n",
       "    <tr>\n",
       "      <th>0</th>\n",
       "      <td>1</td>\n",
       "      <td>B001E4KFG0</td>\n",
       "      <td>A3SGXH7AUHU8GW</td>\n",
       "      <td>delmartian</td>\n",
       "      <td>1</td>\n",
       "      <td>1</td>\n",
       "      <td>5</td>\n",
       "      <td>1303862400</td>\n",
       "      <td>Good Quality Dog Food</td>\n",
       "      <td>I have bought several of the Vitality canned d...</td>\n",
       "    </tr>\n",
       "    <tr>\n",
       "      <th>1</th>\n",
       "      <td>2</td>\n",
       "      <td>B00813GRG4</td>\n",
       "      <td>A1D87F6ZCVE5NK</td>\n",
       "      <td>dll pa</td>\n",
       "      <td>0</td>\n",
       "      <td>0</td>\n",
       "      <td>1</td>\n",
       "      <td>1346976000</td>\n",
       "      <td>Not as Advertised</td>\n",
       "      <td>Product arrived labeled as Jumbo Salted Peanut...</td>\n",
       "    </tr>\n",
       "    <tr>\n",
       "      <th>2</th>\n",
       "      <td>3</td>\n",
       "      <td>B000LQOCH0</td>\n",
       "      <td>ABXLMWJIXXAIN</td>\n",
       "      <td>Natalia Corres \"Natalia Corres\"</td>\n",
       "      <td>1</td>\n",
       "      <td>1</td>\n",
       "      <td>4</td>\n",
       "      <td>1219017600</td>\n",
       "      <td>\"Delight\" says it all</td>\n",
       "      <td>This is a confection that has been around a fe...</td>\n",
       "    </tr>\n",
       "    <tr>\n",
       "      <th>3</th>\n",
       "      <td>4</td>\n",
       "      <td>B000UA0QIQ</td>\n",
       "      <td>A395BORC6FGVXV</td>\n",
       "      <td>Karl</td>\n",
       "      <td>3</td>\n",
       "      <td>3</td>\n",
       "      <td>2</td>\n",
       "      <td>1307923200</td>\n",
       "      <td>Cough Medicine</td>\n",
       "      <td>If you are looking for the secret ingredient i...</td>\n",
       "    </tr>\n",
       "    <tr>\n",
       "      <th>4</th>\n",
       "      <td>5</td>\n",
       "      <td>B006K2ZZ7K</td>\n",
       "      <td>A1UQRSCLF8GW1T</td>\n",
       "      <td>Michael D. Bigham \"M. Wassir\"</td>\n",
       "      <td>0</td>\n",
       "      <td>0</td>\n",
       "      <td>5</td>\n",
       "      <td>1350777600</td>\n",
       "      <td>Great taffy</td>\n",
       "      <td>Great taffy at a great price.  There was a wid...</td>\n",
       "    </tr>\n",
       "  </tbody>\n",
       "</table>\n",
       "</div>"
      ],
      "text/plain": [
       "   Id   ProductId          UserId                      ProfileName  \\\n",
       "0   1  B001E4KFG0  A3SGXH7AUHU8GW                       delmartian   \n",
       "1   2  B00813GRG4  A1D87F6ZCVE5NK                           dll pa   \n",
       "2   3  B000LQOCH0   ABXLMWJIXXAIN  Natalia Corres \"Natalia Corres\"   \n",
       "3   4  B000UA0QIQ  A395BORC6FGVXV                             Karl   \n",
       "4   5  B006K2ZZ7K  A1UQRSCLF8GW1T    Michael D. Bigham \"M. Wassir\"   \n",
       "\n",
       "   HelpfulnessNumerator  HelpfulnessDenominator  Score        Time  \\\n",
       "0                     1                       1      5  1303862400   \n",
       "1                     0                       0      1  1346976000   \n",
       "2                     1                       1      4  1219017600   \n",
       "3                     3                       3      2  1307923200   \n",
       "4                     0                       0      5  1350777600   \n",
       "\n",
       "                 Summary                                               Text  \n",
       "0  Good Quality Dog Food  I have bought several of the Vitality canned d...  \n",
       "1      Not as Advertised  Product arrived labeled as Jumbo Salted Peanut...  \n",
       "2  \"Delight\" says it all  This is a confection that has been around a fe...  \n",
       "3         Cough Medicine  If you are looking for the secret ingredient i...  \n",
       "4            Great taffy  Great taffy at a great price.  There was a wid...  "
      ]
     },
     "execution_count": 2,
     "metadata": {},
     "output_type": "execute_result"
    }
   ],
   "source": [
    "# Load dataset\n",
    "df = pd.read_csv(\"data/reviews.csv\")\n",
    "df.head()"
   ]
  },
  {
   "cell_type": "markdown",
   "metadata": {},
   "source": [
    "### 3.2 Choose features <a id=\"Choose-features\"/>\n",
    "The data consists of 10 variables (Id, ProductId, UserId, ProfileName, HelpfulnessNumerator, HelpfulnessDenominator, Score, Time, Summary, Text). \n",
    "\n",
    "The sentiment analysis will be performed on variables \"Score\" and \"Text\".\n",
    "\n",
    "* Text: Text of the review\n",
    "* Score: Rating between 1 and 5"
   ]
  },
  {
   "cell_type": "code",
   "execution_count": 3,
   "metadata": {},
   "outputs": [
    {
     "data": {
      "text/html": [
       "<div>\n",
       "<style scoped>\n",
       "    .dataframe tbody tr th:only-of-type {\n",
       "        vertical-align: middle;\n",
       "    }\n",
       "\n",
       "    .dataframe tbody tr th {\n",
       "        vertical-align: top;\n",
       "    }\n",
       "\n",
       "    .dataframe thead th {\n",
       "        text-align: right;\n",
       "    }\n",
       "</style>\n",
       "<table border=\"1\" class=\"dataframe\">\n",
       "  <thead>\n",
       "    <tr style=\"text-align: right;\">\n",
       "      <th></th>\n",
       "      <th>Text</th>\n",
       "      <th>Score</th>\n",
       "    </tr>\n",
       "  </thead>\n",
       "  <tbody>\n",
       "    <tr>\n",
       "      <th>0</th>\n",
       "      <td>I have bought several of the Vitality canned d...</td>\n",
       "      <td>5</td>\n",
       "    </tr>\n",
       "    <tr>\n",
       "      <th>1</th>\n",
       "      <td>Product arrived labeled as Jumbo Salted Peanut...</td>\n",
       "      <td>1</td>\n",
       "    </tr>\n",
       "    <tr>\n",
       "      <th>2</th>\n",
       "      <td>This is a confection that has been around a fe...</td>\n",
       "      <td>4</td>\n",
       "    </tr>\n",
       "    <tr>\n",
       "      <th>3</th>\n",
       "      <td>If you are looking for the secret ingredient i...</td>\n",
       "      <td>2</td>\n",
       "    </tr>\n",
       "    <tr>\n",
       "      <th>4</th>\n",
       "      <td>Great taffy at a great price.  There was a wid...</td>\n",
       "      <td>5</td>\n",
       "    </tr>\n",
       "  </tbody>\n",
       "</table>\n",
       "</div>"
      ],
      "text/plain": [
       "                                                Text  Score\n",
       "0  I have bought several of the Vitality canned d...      5\n",
       "1  Product arrived labeled as Jumbo Salted Peanut...      1\n",
       "2  This is a confection that has been around a fe...      4\n",
       "3  If you are looking for the secret ingredient i...      2\n",
       "4  Great taffy at a great price.  There was a wid...      5"
      ]
     },
     "execution_count": 3,
     "metadata": {},
     "output_type": "execute_result"
    }
   ],
   "source": [
    "df = df[[\"Text\", \"Score\"]]\n",
    "df.head()"
   ]
  },
  {
   "cell_type": "markdown",
   "metadata": {},
   "source": [
    "### 3.3 Data analysis <a id=\"Data-analysis\"/>\n",
    "Perform explorative data analysis of the data. "
   ]
  },
  {
   "cell_type": "code",
   "execution_count": 4,
   "metadata": {},
   "outputs": [
    {
     "data": {
      "text/plain": [
       "Text     0\n",
       "Score    0\n",
       "dtype: int64"
      ]
     },
     "execution_count": 4,
     "metadata": {},
     "output_type": "execute_result"
    }
   ],
   "source": [
    "# Check if there are any empty values in the variables of interest\n",
    "df[[\"Text\", \"Score\"]].isnull().sum()"
   ]
  },
  {
   "cell_type": "code",
   "execution_count": 5,
   "metadata": {},
   "outputs": [
    {
     "data": {
      "image/png": "[encoded data removed]",
      "text/plain": [
       "<Figure size 720x432 with 1 Axes>"
      ]
     },
     "metadata": {
      "needs_background": "light"
     },
     "output_type": "display_data"
    }
   ],
   "source": [
    "# Check if the dataset is balanced\n",
    "(unique, counts) = np.unique(df[\"Score\"], return_counts=True)\n",
    "fig = plt.figure(figsize=(10,6))\n",
    "plt.bar(unique, counts)\n",
    "plt.xlabel(\"Score\")\n",
    "plt.ylabel(\"Frequency\")\n",
    "plt.title(\"Dataset balance\")\n",
    "plt.show()"
   ]
  },
  {
   "cell_type": "markdown",
   "metadata": {},
   "source": [
    "The data is not balanced. The overrepresentation of high scores could result in a model skewed towards making predictions in favor of the class representing high scores - i.e. positive reviews."
   ]
  },
  {
   "cell_type": "markdown",
   "metadata": {},
   "source": [
    "## 4. Feature engineering <a id=\"Feature-engineering\"/>\n",
    "The reviews (text) and ratings (score) are preprocessed and made into a feature- and a target vector."
   ]
  },
  {
   "cell_type": "markdown",
   "metadata": {},
   "source": [
    "### 4.1 Balance dataset  <a id=\"example1\"/>"
   ]
  },
  {
   "cell_type": "code",
   "execution_count": 6,
   "metadata": {},
   "outputs": [],
   "source": [
    "# Remove neutral reviews i.e. reviews with score 3.\n",
    "df = df[df[\"Score\"] != 3]\n",
    "# Reviews with a score less than 3 are marked as 0 (negative) and reviews with a score higher than 3 are marked as 1 (positive)  \n",
    "df[\"Score\"] = df[\"Score\"].apply(lambda x: 1 if x > 3 else 0)"
   ]
  },
  {
   "cell_type": "code",
   "execution_count": 7,
   "metadata": {},
   "outputs": [],
   "source": [
    "# Create a balanced dataset\n",
    "df_positive = df[df[\"Score\"] == 1][:80000]\n",
    "df_negative = df[df[\"Score\"] == 0][:80000]\n",
    "df = pd.concat([df_positive, df_negative])"
   ]
  },
  {
   "cell_type": "code",
   "execution_count": 8,
   "metadata": {},
   "outputs": [
    {
     "data": {
      "image/png": "[encoded data removed]",
      "text/plain": [
       "<Figure size 720x432 with 1 Axes>"
      ]
     },
     "metadata": {
      "needs_background": "light"
     },
     "output_type": "display_data"
    }
   ],
   "source": [
    "# Check that dataset is balanced\n",
    "(unique, counts) = np.unique(df[\"Score\"], return_counts=True)\n",
    "fig = plt.figure(figsize=(10,6))\n",
    "plt.bar(unique, counts)\n",
    "plt.xlabel(\"Score\")\n",
    "plt.ylabel(\"Frequency\")\n",
    "plt.title(\"Dataset balance\")\n",
    "plt.xticks([0,1])\n",
    "plt.show()"
   ]
  },
  {
   "cell_type": "code",
   "execution_count": 9,
   "metadata": {},
   "outputs": [
    {
     "data": {
      "text/plain": [
       "0    1\n",
       "2    1\n",
       "4    1\n",
       "5    1\n",
       "6    1\n",
       "Name: Score, dtype: int64"
      ]
     },
     "execution_count": 9,
     "metadata": {},
     "output_type": "execute_result"
    }
   ],
   "source": [
    "# Create target vector\n",
    "y = df[\"Score\"]\n",
    "y.head()"
   ]
  },
  {
   "cell_type": "markdown",
   "metadata": {},
   "source": [
    "### 4.2 Preprocess feature vector  <a id=\"Preprocess-feature-vector\"/>"
   ]
  },
  {
   "cell_type": "code",
   "execution_count": 10,
   "metadata": {},
   "outputs": [
    {
     "data": {
      "text/plain": [
       "'Product received is as advertised.<br /><br /><a href=\"http://www.amazon.com/gp/product/B001GVISJM\">Twizzlers, Strawberry, 16-Ounce Bags (Pack of 6)</a>'"
      ]
     },
     "execution_count": 10,
     "metadata": {},
     "output_type": "execute_result"
    }
   ],
   "source": [
    "# Inspect one review\n",
    "df[\"Text\"].iloc[21]"
   ]
  },
  {
   "cell_type": "code",
   "execution_count": 11,
   "metadata": {},
   "outputs": [],
   "source": [
    "# Create a function for processing reviews\n",
    "def preprocess_text(text):\n",
    "    \n",
    "    # Convert sentence to lowercase\n",
    "    sentence = text.lower()\n",
    "    \n",
    "    # Remove emails\n",
    "    sentence = re.sub(r\"@[^\\s]+\", \" \", sentence)\n",
    "    \n",
    "    # Remove URLs\n",
    "    sentence = re.sub(r\"((www\\.[^\\s]+)|(https?://[^\\s]+))\", \" \", sentence)\n",
    "    \n",
    "    # Remove tags\n",
    "    sentence = re.sub(r\"<[^>]*>\", \" \", sentence)\n",
    "    \n",
    "    # Remove punctuations and numbers\n",
    "    sentence = re.sub(\"[^a-zA-Z]\", \" \", sentence)\n",
    "    \n",
    "    # Remove single characters \n",
    "    sentence = re.sub(r\"\\s+[a-zA-Z]\\s+\", \" \", sentence)\n",
    "    \n",
    "    # Remove multiple spaces\n",
    "    sentence = re.sub(r\"\\s+\", \" \", sentence)\n",
    "    \n",
    "    # Remove stopwords (removal of stopwords impaired the model's performance, and was not implemented)\n",
    "    # sw_tokens = word_tokenize(sentence)\n",
    "    # tokens_without_sw = [word for word in sw_tokens if not word in stopwords.words(\"english\")]\n",
    "    # sentence = (\" \").join(tokens_without_sw)\n",
    "    \n",
    "    # Lemmatize words\n",
    "    lemmatizer = WordNetLemmatizer()\n",
    "    lemma_tokens = word_tokenize(sentence)\n",
    "    lemmatized_tokens = [lemmatizer.lemmatize(word) for word in lemma_tokens]\n",
    "    sentence = (\" \").join(lemmatized_tokens)\n",
    "    \n",
    "    return sentence"
   ]
  },
  {
   "cell_type": "code",
   "execution_count": 12,
   "metadata": {},
   "outputs": [],
   "source": [
    "# Create the feature vector\n",
    "X = df[\"Text\"].apply(lambda x: preprocess_text(x))"
   ]
  },
  {
   "cell_type": "code",
   "execution_count": 13,
   "metadata": {},
   "outputs": [
    {
     "data": {
      "text/plain": [
       "'product received is a advertised'"
      ]
     },
     "execution_count": 13,
     "metadata": {},
     "output_type": "execute_result"
    }
   ],
   "source": [
    "# Inspect the review after it has been processed\n",
    "X.iloc[21]"
   ]
  },
  {
   "cell_type": "code",
   "execution_count": 14,
   "metadata": {},
   "outputs": [],
   "source": [
    "# Tokenize the feature variable (i.e. convert textual data into a numeric representation of the data)\n",
    "tokenizer = Tokenizer(num_words=1000) # Set the maximum number of words to keep, based on the word frequency, to 5000\n",
    "tokenizer.fit_on_texts(X)\n",
    "\n",
    "X = tokenizer.texts_to_sequences(X)"
   ]
  },
  {
   "cell_type": "code",
   "execution_count": 15,
   "metadata": {},
   "outputs": [],
   "source": [
    "# Make sequences the same length by adding padding where needed\n",
    "X = pad_sequences(X, padding=\"post\", maxlen=200)"
   ]
  },
  {
   "cell_type": "code",
   "execution_count": 16,
   "metadata": {},
   "outputs": [],
   "source": [
    "# Create a training and a test dataset\n",
    "X_train, X_test, y_train, y_test = train_test_split(X, y, test_size=0.20)"
   ]
  },
  {
   "cell_type": "code",
   "execution_count": 17,
   "metadata": {},
   "outputs": [],
   "source": [
    "# Create word embeddings using the GloVe pretained model for twitter.\n",
    "# For more information, see: https://nlp.stanford.edu/projects/glove/\n",
    "\n",
    "# Create empty dictionary\n",
    "embeddings_dict = dict()\n",
    "\n",
    "# Create embedding vector\n",
    "with open('data/glove.twitter.27B.200d.txt','r') as f:\n",
    "    for line in f:\n",
    "        values = line.split()\n",
    "        word = values[0]\n",
    "        vector = np.asarray(values[1:], dtype='float32')\n",
    "        embeddings_dict[word] = vector"
   ]
  },
  {
   "cell_type": "code",
   "execution_count": 18,
   "metadata": {},
   "outputs": [],
   "source": [
    "# Create embeddings matrix\n",
    "embeddings_matrix = np.zeros((len(tokenizer.word_index) + 1, 200))\n",
    "for word, index in tokenizer.word_index.items():\n",
    "    embeddings_vector = embeddings_dict.get(word)\n",
    "    if embeddings_vector is not None:\n",
    "        embeddings_matrix[index] = embeddings_vector"
   ]
  },
  {
   "cell_type": "markdown",
   "metadata": {},
   "source": [
    "## 5. Modelling <a id=\"Modelling\"/>\n",
    "Building the LSTM sentiment analysis model and evaluating the results."
   ]
  },
  {
   "cell_type": "markdown",
   "metadata": {},
   "source": [
    "### 5.1 Build the model <a id=\"Build-the-model\"/>\n",
    "Embedding -> LSTM -> Dropout -> LSTM -> Dropout -> Dense(Output(Sigmoid))"
   ]
  },
  {
   "cell_type": "code",
   "execution_count": 19,
   "metadata": {},
   "outputs": [
    {
     "name": "stdout",
     "output_type": "stream",
     "text": [
      "Model: \"sequential\"\n",
      "_________________________________________________________________\n",
      "Layer (type)                 Output Shape              Param #   \n",
      "=================================================================\n",
      "embedding (Embedding)        (None, 200, 200)          11300400  \n",
      "_________________________________________________________________\n",
      "lstm (LSTM)                  (None, 200, 196)          311248    \n",
      "_________________________________________________________________\n",
      "dropout (Dropout)            (None, 200, 196)          0         \n",
      "_________________________________________________________________\n",
      "lstm_1 (LSTM)                (None, 200, 128)          166400    \n",
      "_________________________________________________________________\n",
      "dropout_1 (Dropout)          (None, 200, 128)          0         \n",
      "_________________________________________________________________\n",
      "dense (Dense)                (None, 200, 1)            129       \n",
      "=================================================================\n",
      "Total params: 11,778,177\n",
      "Trainable params: 477,777\n",
      "Non-trainable params: 11,300,400\n",
      "_________________________________________________________________\n",
      "None\n"
     ]
    }
   ],
   "source": [
    "# Define model architecture and compile the model\n",
    "model = Sequential()\n",
    "model.add(Embedding(len(tokenizer.word_index) + 1, 200, weights=[embeddings_matrix], input_length=X.shape[1], trainable=False))\n",
    "model.add(LSTM(196, return_sequences=True))\n",
    "model.add(Dropout(0.7))\n",
    "model.add(LSTM(128, return_sequences=True))\n",
    "model.add(Dropout(0.7))\n",
    "model.add(Dense(1, activation=\"sigmoid\"))\n",
    "model.compile(loss=\"binary_crossentropy\", optimizer=\"adam\", metrics=[\"accuracy\"])\n",
    "\n",
    "# Print model summary\n",
    "print(model.summary())"
   ]
  },
  {
   "cell_type": "code",
   "execution_count": 20,
   "metadata": {},
   "outputs": [
    {
     "name": "stdout",
     "output_type": "stream",
     "text": [
      "Epoch 1/10\n",
      "3200/3200 [==============================] - 1154s 355ms/step - loss: 0.6400 - accuracy: 0.5920 - val_loss: 0.3326 - val_accuracy: 0.8491\n",
      "Epoch 2/10\n",
      "3200/3200 [==============================] - 1137s 355ms/step - loss: 0.3287 - accuracy: 0.8549 - val_loss: 0.2874 - val_accuracy: 0.8772\n",
      "Epoch 3/10\n",
      "3200/3200 [==============================] - 2886s 902ms/step - loss: 0.2669 - accuracy: 0.8848 - val_loss: 0.2607 - val_accuracy: 0.8894\n",
      "Epoch 4/10\n",
      "3200/3200 [==============================] - 3602s 1s/step - loss: 0.2349 - accuracy: 0.9003 - val_loss: 0.3736 - val_accuracy: 0.8201\n",
      "Epoch 5/10\n",
      "3200/3200 [==============================] - 2864s 895ms/step - loss: 0.2012 - accuracy: 0.9156 - val_loss: 0.2565 - val_accuracy: 0.8967\n",
      "Epoch 6/10\n",
      "3200/3200 [==============================] - 4076s 1s/step - loss: 0.1742 - accuracy: 0.9278 - val_loss: 0.2390 - val_accuracy: 0.9030\n",
      "Epoch 7/10\n",
      "3200/3200 [==============================] - 2861s 894ms/step - loss: 0.1496 - accuracy: 0.9378 - val_loss: 0.2611 - val_accuracy: 0.9028\n",
      "Epoch 8/10\n",
      "3200/3200 [==============================] - 3384s 1s/step - loss: 0.1344 - accuracy: 0.9442 - val_loss: 0.2653 - val_accuracy: 0.9009\n",
      "Epoch 9/10\n",
      "3200/3200 [==============================] - 4673s 1s/step - loss: 0.1185 - accuracy: 0.9503 - val_loss: 0.2933 - val_accuracy: 0.9007\n",
      "Epoch 10/10\n",
      "3200/3200 [==============================] - 2540s 794ms/step - loss: 0.1069 - accuracy: 0.9551 - val_loss: 0.2962 - val_accuracy: 0.9025\n"
     ]
    }
   ],
   "source": [
    "# Fit model on training data\n",
    "history = model.fit(X_train, y_train, batch_size=32, epochs=10, validation_split=0.2)"
   ]
  },
  {
   "cell_type": "markdown",
   "metadata": {},
   "source": [
    "### 5.2 Analyze the result <a id=\"Analyze-the-results\"/>"
   ]
  },
  {
   "cell_type": "code",
   "execution_count": 21,
   "metadata": {},
   "outputs": [
    {
     "name": "stdout",
     "output_type": "stream",
     "text": [
      "1000/1000 [==============================] - 119s 119ms/step - loss: 0.2952 - accuracy: 0.9036\n",
      "Test Score: 0.2952086329460144\n",
      "Test Accuracy: 0.9036359190940857\n",
      "Accuracy: 90.36%\n"
     ]
    }
   ],
   "source": [
    "# Evaluate model on test data\n",
    "results = model.evaluate(X_test, y_test, verbose=1)\n",
    "print(\"Test Score:\", results[0])\n",
    "print(\"Test Accuracy:\", results[1])\n",
    "print(\"Accuracy: %.2f%%\" % (results[1] * 100))"
   ]
  },
  {
   "cell_type": "code",
   "execution_count": 22,
   "metadata": {},
   "outputs": [
    {
     "data": {
      "image/png": "[encoded data removed]",
      "text/plain": [
       "<Figure size 432x288 with 1 Axes>"
      ]
     },
     "metadata": {
      "needs_background": "light"
     },
     "output_type": "display_data"
    },
    {
     "data": {
      "image/png": "[encoded data removed]",
      "text/plain": [
       "<Figure size 432x288 with 1 Axes>"
      ]
     },
     "metadata": {
      "needs_background": "light"
     },
     "output_type": "display_data"
    }
   ],
   "source": [
    "# Plot model's accuracy\n",
    "plt.plot(history.history[\"accuracy\"])\n",
    "plt.plot(history.history[\"val_accuracy\"])\n",
    "\n",
    "plt.title(\"Model Accuracy\")\n",
    "plt.ylabel(\"Accuracy\")\n",
    "plt.xlabel(\"Epoch\")\n",
    "plt.legend([\"Train\",\"Test\"], loc=\"upper left\")\n",
    "plt.show()\n",
    "\n",
    "# Plot model's loss\n",
    "plt.plot(history.history[\"loss\"])\n",
    "plt.plot(history.history[\"val_loss\"])\n",
    "\n",
    "plt.title(\"Model Loss\")\n",
    "plt.ylabel(\"Loss\")\n",
    "plt.xlabel(\"Epoch\")\n",
    "plt.legend([\"Train\",\"Test\"], loc=\"upper left\")\n",
    "plt.show()"
   ]
  },
  {
   "cell_type": "markdown",
   "metadata": {},
   "source": [
    "## 6. Conclusions <a id=\"Conclusions\"/>"
   ]
  },
  {
   "cell_type": "markdown",
   "metadata": {},
   "source": [
    "This notebook presented the use of a LSTM Neural Network for performing Sentiment Analysis on reviews from Twitter. The presented model resulted in an accuracy of 90.36%.\n",
    "\n",
    "One of the key take aways was that the removal of stop words from the reviews did not enhance the model's performance, but on the contrary, led to a worse result."
   ]
  },
  {
   "cell_type": "code",
   "execution_count": null,
   "metadata": {},
   "outputs": [],
   "source": []
  }
 ],
 "metadata": {
  "kernelspec": {
   "display_name": "Python 3 (ipykernel)",
   "language": "python",
   "name": "python3"
  },
  "language_info": {
   "codemirror_mode": {
    "name": "ipython",
    "version": 3
   },
   "file_extension": ".py",
   "mimetype": "text/x-python",
   "name": "python",
   "nbconvert_exporter": "python",
   "pygments_lexer": "ipython3",
   "version": "3.9.2"
  }
 },
 "nbformat": 4,
 "nbformat_minor": 4
}
