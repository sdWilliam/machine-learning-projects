{
 "cells": [
  {
   "cell_type": "markdown",
   "id": "284c9a71",
   "metadata": {},
   "source": [
    "# Principal Component Analysis (PCA)\n",
    "This notebook goes through the implementation of Principal Component Analysis (PCA) from scratch, using the Scikit-Learn (sklearn) library and how it can be used for visualizing a n-dimensional dataset in 2 dimensions."
   ]
  },
  {
   "cell_type": "markdown",
   "id": "c1f62bd8",
   "metadata": {},
   "source": [
    "### Table of contents\n",
    "1. [Introduction](#Introduction)<br>\n",
    "2. [PCA from scratch](#PCA-from-scratch)<br>\n",
    "    2.1 [Preparations](#Preparations)<br>\n",
    "    2.2 [Load the data](#Load-the-data)<br>\n",
    "    2.3 [Standardize the features](#Standardize-the-features)<br>\n",
    "    2.4 [Compute covariance matrix](#Compute-covariance-matrix)<br>\n",
    "    2.5 [Compute eigenvalues and -vectors from covariance matrix](#Compute-eigenvalues-and--vectors-from-the-covariance-matrix)<br>\n",
    "    2.6 [Sort the eigenvectors by eigenvalues](#Sort-the-eigenvectors-by-eigenvalues)<br>\n",
    "    2.7 [Select principal components](#Select-principal-components)<br>\n",
    "    2.8 [Transform the data](#Transform-the-data)<br>\n",
    "    2.9 [Plot the data](#Plot-the-data)\n",
    "3. [PCA using scikit-learn](#PCA-using-scikit-learn-sklearn)<br>\n",
    "    3.1 [Preparations](#Preparations-sklearn)<br>\n",
    "    3.2 [Load the data](#Load-the-data-sklearn)<br>\n",
    "    3.3 [Split dataset into training and test sets](#Split-data-set-into-training-and-test-sets-sklearn)<br>\n",
    "    3.4 [Standardize the features](#Standardize-the-features-sklearn)<br>\n",
    "    3.5 [Decide number of principal componenets to include](#Decide-number-of-principal-componenets-to-include-sklearn)<br>\n",
    "    3.6 [Run PCA with specified number of principal components](#Run-PCA-with-specified-number-of-principal-components-sklearn)\n",
    "4. [PCA for visualizing n-dimensional a dataset in 2 dimensions](#PCA-for-visualizing-a-n-dimensional-dataset-in-2-dimensions-visualization)<br>\n",
    "    4.1 [Preparations](#Preparations-visualization)<br>\n",
    "    4.2 [Load the data](#Load-the-data-visualization)<br>\n",
    "    4.3 [Standardize the features](#Standardize-the-features-visualization)<br>\n",
    "    4.4 [Run PCA with two principal components](#Run-PCA-with-two-principal-components-visualization)<br>\n",
    "    4.5 [Plot the data](#Plot-the-data-visualization)<br>"
   ]
  },
  {
   "cell_type": "markdown",
   "id": "fccdf4ce",
   "metadata": {},
   "source": [
    "## 1. Introduction<a id=\"Introduction\"/>\n",
    "\n",
    "### Principal Component Analysis (PCA)\n",
    "Principal Component Analysis (PCA) is a dimensionality-reduction method, that is often used for reducing the dimensionality of datasets. PCA creates a representation of the variability within the data, in as few dimensions as possible – while still retaining most of variation from the original dataset.\n",
    "\n",
    "PCA goes through a set of steps; standardization of data, computing covariance matrix, computing eigenvectors and -values of the covariance matrix, sorting eigenvectors according to corresponding eigenvalues in decreasing order (in order of significance), specifying numbers of eigenvectors (principal components) from the sorted eigenvector-matrix to be used to project the original data onto a new, lower-dimensional, feature subspace."
   ]
  },
  {
   "cell_type": "markdown",
   "id": "2d1e02f6",
   "metadata": {},
   "source": [
    "## 2. PCA from scratch<a id=\"PCA-from-scratch\"/>\n",
    "The following will go through an implemented of PCA from scratch using Python."
   ]
  },
  {
   "cell_type": "markdown",
   "id": "1400172d",
   "metadata": {},
   "source": [
    "### 2.1 Preparations<a id=\"Preparations\"/>"
   ]
  },
  {
   "cell_type": "code",
   "execution_count": 1,
   "id": "11027a9c",
   "metadata": {},
   "outputs": [],
   "source": [
    "# Import required libraries\n",
    "import numpy as np\n",
    "import pandas as pd\n",
    "from sklearn.datasets import load_iris\n",
    "from sklearn.preprocessing import StandardScaler\n",
    "import matplotlib.pyplot as plt\n",
    "import seaborn as sb\n",
    "%matplotlib inline"
   ]
  },
  {
   "cell_type": "markdown",
   "id": "611aa075",
   "metadata": {},
   "source": [
    "### 2.2 Load the data<a id=\"Load-the-data\"/>\n",
    "We'll use the well-known Iris dataset, which can be loaded using the sklearn library."
   ]
  },
  {
   "cell_type": "code",
   "execution_count": 2,
   "id": "d27b46e3",
   "metadata": {},
   "outputs": [],
   "source": [
    "# Load iris data\n",
    "iris = load_iris()"
   ]
  },
  {
   "cell_type": "code",
   "execution_count": 3,
   "id": "fad76276",
   "metadata": {},
   "outputs": [
    {
     "data": {
      "text/plain": [
       "array([[5.1, 3.5, 1.4, 0.2],\n",
       "       [4.9, 3. , 1.4, 0.2],\n",
       "       [4.7, 3.2, 1.3, 0.2],\n",
       "       [4.6, 3.1, 1.5, 0.2],\n",
       "       [5. , 3.6, 1.4, 0.2]])"
      ]
     },
     "execution_count": 3,
     "metadata": {},
     "output_type": "execute_result"
    }
   ],
   "source": [
    "# Create the feature matrix\n",
    "X = iris.data\n",
    "X[:5]"
   ]
  },
  {
   "cell_type": "code",
   "execution_count": 4,
   "id": "cbf4b843",
   "metadata": {},
   "outputs": [
    {
     "data": {
      "text/plain": [
       "array([0, 0, 0, 0, 0, 0, 0, 0, 0, 0, 0, 0, 0, 0, 0, 0, 0, 0, 0, 0, 0, 0,\n",
       "       0, 0, 0, 0, 0, 0, 0, 0, 0, 0, 0, 0, 0, 0, 0, 0, 0, 0, 0, 0, 0, 0,\n",
       "       0, 0, 0, 0, 0, 0, 1, 1, 1, 1, 1, 1, 1, 1, 1, 1, 1, 1, 1, 1, 1, 1,\n",
       "       1, 1, 1, 1, 1, 1, 1, 1, 1, 1, 1, 1, 1, 1, 1, 1, 1, 1, 1, 1, 1, 1,\n",
       "       1, 1, 1, 1, 1, 1, 1, 1, 1, 1, 1, 1, 2, 2, 2, 2, 2, 2, 2, 2, 2, 2,\n",
       "       2, 2, 2, 2, 2, 2, 2, 2, 2, 2, 2, 2, 2, 2, 2, 2, 2, 2, 2, 2, 2, 2,\n",
       "       2, 2, 2, 2, 2, 2, 2, 2, 2, 2, 2, 2, 2, 2, 2, 2, 2, 2])"
      ]
     },
     "execution_count": 4,
     "metadata": {},
     "output_type": "execute_result"
    }
   ],
   "source": [
    "# Create the target vector\n",
    "y = iris[\"target\"]\n",
    "y"
   ]
  },
  {
   "cell_type": "code",
   "execution_count": 5,
   "id": "d9f60582",
   "metadata": {},
   "outputs": [
    {
     "data": {
      "text/plain": [
       "array(['setosa', 'versicolor', 'virginica'], dtype='<U10')"
      ]
     },
     "execution_count": 5,
     "metadata": {},
     "output_type": "execute_result"
    }
   ],
   "source": [
    "# Target names\n",
    "target_names = iris.target_names\n",
    "target_names"
   ]
  },
  {
   "cell_type": "markdown",
   "id": "a83b8b8f",
   "metadata": {},
   "source": [
    "### 2.3 Standardize the features<a id=\"Standardize-the-features\"/>"
   ]
  },
  {
   "cell_type": "code",
   "execution_count": 6,
   "id": "f6448556",
   "metadata": {},
   "outputs": [
    {
     "data": {
      "text/plain": [
       "array([[-0.90068117,  1.01900435, -1.34022653, -1.3154443 ],\n",
       "       [-1.14301691, -0.13197948, -1.34022653, -1.3154443 ],\n",
       "       [-1.38535265,  0.32841405, -1.39706395, -1.3154443 ],\n",
       "       [-1.50652052,  0.09821729, -1.2833891 , -1.3154443 ],\n",
       "       [-1.02184904,  1.24920112, -1.34022653, -1.3154443 ]])"
      ]
     },
     "execution_count": 6,
     "metadata": {},
     "output_type": "execute_result"
    }
   ],
   "source": [
    "# Standardize the features using StandardScaler from Scikit-Learn\n",
    "sc = StandardScaler()\n",
    "X_std = sc.fit_transform(X)\n",
    "X_std[:5]"
   ]
  },
  {
   "cell_type": "markdown",
   "id": "a45d4760",
   "metadata": {},
   "source": [
    "### 2.4 Compute covariance matrix<a id=\"Compute-covariance-matrix\"/>"
   ]
  },
  {
   "cell_type": "code",
   "execution_count": 7,
   "id": "58a462c0",
   "metadata": {},
   "outputs": [
    {
     "data": {
      "text/plain": [
       "array([[ 1.00671141, -0.11835884,  0.87760447,  0.82343066],\n",
       "       [-0.11835884,  1.00671141, -0.43131554, -0.36858315],\n",
       "       [ 0.87760447, -0.43131554,  1.00671141,  0.96932762],\n",
       "       [ 0.82343066, -0.36858315,  0.96932762,  1.00671141]])"
      ]
     },
     "execution_count": 7,
     "metadata": {},
     "output_type": "execute_result"
    }
   ],
   "source": [
    "# Compute the covariance matrix from the standardized data\n",
    "cov_matrix = np.cov(X_std.T)\n",
    "cov_matrix[:5]"
   ]
  },
  {
   "cell_type": "markdown",
   "id": "8dac46a0",
   "metadata": {},
   "source": [
    "### 2.5 Compute eigenvalues and -vectors from the covariance matrix<a id=\"Compute-eigenvalues-and--vectors-from-the-covariance-matrix\"/>"
   ]
  },
  {
   "cell_type": "code",
   "execution_count": 8,
   "id": "3aed5bc2",
   "metadata": {},
   "outputs": [
    {
     "data": {
      "text/plain": [
       "(array([2.93808505, 0.9201649 , 0.14774182, 0.02085386]),\n",
       " array([[ 0.52106591, -0.37741762, -0.71956635,  0.26128628],\n",
       "        [-0.26934744, -0.92329566,  0.24438178, -0.12350962],\n",
       "        [ 0.5804131 , -0.02449161,  0.14212637, -0.80144925],\n",
       "        [ 0.56485654, -0.06694199,  0.63427274,  0.52359713]]))"
      ]
     },
     "execution_count": 8,
     "metadata": {},
     "output_type": "execute_result"
    }
   ],
   "source": [
    "# Compute eigenvalues and -vectors from the covariance matrix\n",
    "eigen_values, eigen_vectors = np.linalg.eig(cov_matrix)\n",
    "eigen_values[:5], eigen_vectors[:5]"
   ]
  },
  {
   "cell_type": "markdown",
   "id": "13794c02",
   "metadata": {},
   "source": [
    "### 2.6 Sort the eigenvectors by eigenvalues<a id=\"Sort-the-eigenvectors-by-eigenvalues\"/>"
   ]
  },
  {
   "cell_type": "code",
   "execution_count": 9,
   "id": "823cfa20",
   "metadata": {},
   "outputs": [
    {
     "data": {
      "text/plain": [
       "array([2.93808505, 0.9201649 , 0.14774182, 0.02085386])"
      ]
     },
     "execution_count": 9,
     "metadata": {},
     "output_type": "execute_result"
    }
   ],
   "source": [
    "# Sort eigenvalues in decending order\n",
    "sorted_eigen_values = eigen_values[(np.argsort(eigen_values)[::-1])]\n",
    "sorted_eigen_values"
   ]
  },
  {
   "cell_type": "code",
   "execution_count": 10,
   "id": "8565ae4c",
   "metadata": {},
   "outputs": [
    {
     "data": {
      "text/plain": [
       "array([[ 0.52106591, -0.37741762, -0.71956635,  0.26128628],\n",
       "       [-0.26934744, -0.92329566,  0.24438178, -0.12350962],\n",
       "       [ 0.5804131 , -0.02449161,  0.14212637, -0.80144925],\n",
       "       [ 0.56485654, -0.06694199,  0.63427274,  0.52359713]])"
      ]
     },
     "execution_count": 10,
     "metadata": {},
     "output_type": "execute_result"
    }
   ],
   "source": [
    "# Sort eigenvectors by corresponding eigenvalues in decending order\n",
    "sorted_eigen_vectors = eigen_vectors[:,(np.argsort(eigen_values)[::-1])]\n",
    "sorted_eigen_vectors"
   ]
  },
  {
   "cell_type": "markdown",
   "id": "eae2e9a4",
   "metadata": {},
   "source": [
    "### 2.7 Select principal components<a id=\"Select-principal-components\"/>"
   ]
  },
  {
   "cell_type": "code",
   "execution_count": 11,
   "id": "39c6319f",
   "metadata": {},
   "outputs": [
    {
     "name": "stdout",
     "output_type": "stream",
     "text": [
      "Variance per component:\n",
      "[72.96244541329989, 22.850761786701753, 3.668921889282865, 0.5178709107154905]\n",
      "Cumulative variance:\n",
      "[ 72.96244541  95.8132072   99.48212909 100.        ]\n"
     ]
    }
   ],
   "source": [
    "# Total eigen values\n",
    "total = sum(eigen_values)\n",
    "\n",
    "# Explained variance per eigenvector (principal component)\n",
    "var_per_component = [(i / total) * 100 for i in sorted_eigen_values]\n",
    "\n",
    "# Cumulative variance\n",
    "cumulative_var = np.cumsum(var_per_component)\n",
    "\n",
    "print(f\"Variance per component:\\n{var_per_component}\")\n",
    "print(f\"Cumulative variance:\\n{cumulative_var}\")"
   ]
  },
  {
   "cell_type": "markdown",
   "id": "e9dfabdd",
   "metadata": {},
   "source": [
    "We can see that the first two principal components can explain the majority of the variance - approx. 96%."
   ]
  },
  {
   "cell_type": "code",
   "execution_count": 12,
   "id": "2e27f3a7",
   "metadata": {},
   "outputs": [
    {
     "data": {
      "text/plain": [
       "array([[ 0.52106591, -0.37741762],\n",
       "       [-0.26934744, -0.92329566],\n",
       "       [ 0.5804131 , -0.02449161],\n",
       "       [ 0.56485654, -0.06694199]])"
      ]
     },
     "execution_count": 12,
     "metadata": {},
     "output_type": "execute_result"
    }
   ],
   "source": [
    "# Select number (n) of principal components\n",
    "n_components = 2 # We choose 2, since 2 of the most significant principal components account for the majority of the variance\n",
    "\n",
    "# Create W matrix\n",
    "W_matrix = sorted_eigen_vectors[:,0:n_components]\n",
    "W_matrix"
   ]
  },
  {
   "cell_type": "markdown",
   "id": "f8b42b8c",
   "metadata": {},
   "source": [
    "### 2.8 Transform the data<a id=\"Transform-the-data\"/>"
   ]
  },
  {
   "cell_type": "code",
   "execution_count": 13,
   "id": "106e93be",
   "metadata": {},
   "outputs": [
    {
     "data": {
      "text/plain": [
       "array([[-2.26470281, -0.4800266 ],\n",
       "       [-2.08096115,  0.67413356],\n",
       "       [-2.36422905,  0.34190802],\n",
       "       [-2.29938422,  0.59739451],\n",
       "       [-2.38984217, -0.64683538]])"
      ]
     },
     "execution_count": 13,
     "metadata": {},
     "output_type": "execute_result"
    }
   ],
   "source": [
    "# Project data onto principal components to create new, lower-dimensional, feature subspace.\n",
    "X_pca = X_std.dot(W_matrix)\n",
    "X_pca[:5]"
   ]
  },
  {
   "cell_type": "code",
   "execution_count": 14,
   "id": "2a2f1e8f",
   "metadata": {},
   "outputs": [
    {
     "data": {
      "text/html": [
       "<div>\n",
       "<style scoped>\n",
       "    .dataframe tbody tr th:only-of-type {\n",
       "        vertical-align: middle;\n",
       "    }\n",
       "\n",
       "    .dataframe tbody tr th {\n",
       "        vertical-align: top;\n",
       "    }\n",
       "\n",
       "    .dataframe thead th {\n",
       "        text-align: right;\n",
       "    }\n",
       "</style>\n",
       "<table border=\"1\" class=\"dataframe\">\n",
       "  <thead>\n",
       "    <tr style=\"text-align: right;\">\n",
       "      <th></th>\n",
       "      <th>PC1</th>\n",
       "      <th>PC2</th>\n",
       "      <th>Target</th>\n",
       "    </tr>\n",
       "  </thead>\n",
       "  <tbody>\n",
       "    <tr>\n",
       "      <th>0</th>\n",
       "      <td>-2.264703</td>\n",
       "      <td>-0.480027</td>\n",
       "      <td>setosa</td>\n",
       "    </tr>\n",
       "    <tr>\n",
       "      <th>1</th>\n",
       "      <td>-2.080961</td>\n",
       "      <td>0.674134</td>\n",
       "      <td>setosa</td>\n",
       "    </tr>\n",
       "    <tr>\n",
       "      <th>2</th>\n",
       "      <td>-2.364229</td>\n",
       "      <td>0.341908</td>\n",
       "      <td>setosa</td>\n",
       "    </tr>\n",
       "    <tr>\n",
       "      <th>3</th>\n",
       "      <td>-2.299384</td>\n",
       "      <td>0.597395</td>\n",
       "      <td>setosa</td>\n",
       "    </tr>\n",
       "    <tr>\n",
       "      <th>4</th>\n",
       "      <td>-2.389842</td>\n",
       "      <td>-0.646835</td>\n",
       "      <td>setosa</td>\n",
       "    </tr>\n",
       "    <tr>\n",
       "      <th>...</th>\n",
       "      <td>...</td>\n",
       "      <td>...</td>\n",
       "      <td>...</td>\n",
       "    </tr>\n",
       "    <tr>\n",
       "      <th>145</th>\n",
       "      <td>1.870503</td>\n",
       "      <td>-0.386966</td>\n",
       "      <td>virginica</td>\n",
       "    </tr>\n",
       "    <tr>\n",
       "      <th>146</th>\n",
       "      <td>1.564580</td>\n",
       "      <td>0.896687</td>\n",
       "      <td>virginica</td>\n",
       "    </tr>\n",
       "    <tr>\n",
       "      <th>147</th>\n",
       "      <td>1.521170</td>\n",
       "      <td>-0.269069</td>\n",
       "      <td>virginica</td>\n",
       "    </tr>\n",
       "    <tr>\n",
       "      <th>148</th>\n",
       "      <td>1.372788</td>\n",
       "      <td>-1.011254</td>\n",
       "      <td>virginica</td>\n",
       "    </tr>\n",
       "    <tr>\n",
       "      <th>149</th>\n",
       "      <td>0.960656</td>\n",
       "      <td>0.024332</td>\n",
       "      <td>virginica</td>\n",
       "    </tr>\n",
       "  </tbody>\n",
       "</table>\n",
       "<p>150 rows × 3 columns</p>\n",
       "</div>"
      ],
      "text/plain": [
       "          PC1       PC2     Target\n",
       "0   -2.264703 -0.480027     setosa\n",
       "1   -2.080961  0.674134     setosa\n",
       "2   -2.364229  0.341908     setosa\n",
       "3   -2.299384  0.597395     setosa\n",
       "4   -2.389842 -0.646835     setosa\n",
       "..        ...       ...        ...\n",
       "145  1.870503 -0.386966  virginica\n",
       "146  1.564580  0.896687  virginica\n",
       "147  1.521170 -0.269069  virginica\n",
       "148  1.372788 -1.011254  virginica\n",
       "149  0.960656  0.024332  virginica\n",
       "\n",
       "[150 rows x 3 columns]"
      ]
     },
     "execution_count": 14,
     "metadata": {},
     "output_type": "execute_result"
    }
   ],
   "source": [
    "# Create pandas DataFrame from new, reduced, dataset\n",
    "df = pd.DataFrame(data=X_pca, columns=[\"PC1\", \"PC2\"])\n",
    "\n",
    "# Concatinate with target variables\n",
    "df = pd.concat([df, pd.DataFrame(data=y, columns=[\"Target\"])], axis=1)\n",
    "\n",
    "# Rename Target vector\n",
    "df[\"Target\"] = target_names[df[\"Target\"]]\n",
    "df"
   ]
  },
  {
   "cell_type": "markdown",
   "id": "f73a1b96",
   "metadata": {},
   "source": [
    "### 2.9 Plot the data<a id=\"Plot-the-data\"/>"
   ]
  },
  {
   "cell_type": "code",
   "execution_count": 15,
   "id": "ac1ac2eb",
   "metadata": {},
   "outputs": [
    {
     "data": {
      "image/png": "[encoded data removed]",
      "text/plain": [
       "<Figure size 648x504 with 1 Axes>"
      ]
     },
     "metadata": {
      "needs_background": "light"
     },
     "output_type": "display_data"
    }
   ],
   "source": [
    "# Create plot for visualizing results\n",
    "plt.figure(figsize=(9,7))\n",
    "sb.scatterplot(data=df, x=\"PC1\", y=\"PC2\", hue=df[\"Target\"], s=50, palette=\"icefire\")\n",
    "plt.title(\"PCA for IRIS Dataset\")\n",
    "plt.xlabel(\"Principal Component 1\")\n",
    "plt.ylabel(\"Principal Component 2\")\n",
    "plt.legend(loc=\"upper right\")\n",
    "plt.show()"
   ]
  },
  {
   "cell_type": "markdown",
   "id": "1cc86c1c",
   "metadata": {},
   "source": [
    "## 3. PCA using scikit-learn<a id=\"PCA-using-scikit-learn-sklearn\"/>\n",
    "The following will go through an implemented of PCA using the Scikit-Learn (Sklearn) library."
   ]
  },
  {
   "cell_type": "markdown",
   "id": "f880b7a4",
   "metadata": {},
   "source": [
    "### 3.1 Preparations<a id=\"Preparations-sklearn\"/>"
   ]
  },
  {
   "cell_type": "code",
   "execution_count": 16,
   "id": "58de3dce",
   "metadata": {},
   "outputs": [],
   "source": [
    "# Import required libraries\n",
    "from sklearn.datasets import load_iris\n",
    "from sklearn.decomposition import PCA\n",
    "from sklearn.preprocessing import StandardScaler\n",
    "from sklearn.model_selection import train_test_split\n",
    "import numpy as np\n",
    "import pandas as pd"
   ]
  },
  {
   "cell_type": "markdown",
   "id": "a98c5b0c",
   "metadata": {},
   "source": [
    "### 3.2 Load the data<a id=\"Load-the-data-sklearn\"/>\n",
    "We'll use the well-known Iris dataset, which can be loaded using the sklearn library."
   ]
  },
  {
   "cell_type": "code",
   "execution_count": 17,
   "id": "7e021d2c",
   "metadata": {},
   "outputs": [],
   "source": [
    "# Load iris data\n",
    "iris = load_iris()"
   ]
  },
  {
   "cell_type": "code",
   "execution_count": 18,
   "id": "9e9d18ee",
   "metadata": {},
   "outputs": [
    {
     "data": {
      "text/plain": [
       "array([[5.1, 3.5, 1.4, 0.2],\n",
       "       [4.9, 3. , 1.4, 0.2],\n",
       "       [4.7, 3.2, 1.3, 0.2],\n",
       "       [4.6, 3.1, 1.5, 0.2],\n",
       "       [5. , 3.6, 1.4, 0.2]])"
      ]
     },
     "execution_count": 18,
     "metadata": {},
     "output_type": "execute_result"
    }
   ],
   "source": [
    "# Create the feature matrix\n",
    "X = iris.data\n",
    "X[:5]"
   ]
  },
  {
   "cell_type": "code",
   "execution_count": 19,
   "id": "9926b2a7",
   "metadata": {},
   "outputs": [
    {
     "data": {
      "text/plain": [
       "array([0, 0, 0, 0, 0, 0, 0, 0, 0, 0, 0, 0, 0, 0, 0, 0, 0, 0, 0, 0, 0, 0,\n",
       "       0, 0, 0, 0, 0, 0, 0, 0, 0, 0, 0, 0, 0, 0, 0, 0, 0, 0, 0, 0, 0, 0,\n",
       "       0, 0, 0, 0, 0, 0, 1, 1, 1, 1, 1, 1, 1, 1, 1, 1, 1, 1, 1, 1, 1, 1,\n",
       "       1, 1, 1, 1, 1, 1, 1, 1, 1, 1, 1, 1, 1, 1, 1, 1, 1, 1, 1, 1, 1, 1,\n",
       "       1, 1, 1, 1, 1, 1, 1, 1, 1, 1, 1, 1, 2, 2, 2, 2, 2, 2, 2, 2, 2, 2,\n",
       "       2, 2, 2, 2, 2, 2, 2, 2, 2, 2, 2, 2, 2, 2, 2, 2, 2, 2, 2, 2, 2, 2,\n",
       "       2, 2, 2, 2, 2, 2, 2, 2, 2, 2, 2, 2, 2, 2, 2, 2, 2, 2])"
      ]
     },
     "execution_count": 19,
     "metadata": {},
     "output_type": "execute_result"
    }
   ],
   "source": [
    "# Create the target vector\n",
    "y = iris[\"target\"]\n",
    "y"
   ]
  },
  {
   "cell_type": "code",
   "execution_count": 20,
   "id": "178e4e4f",
   "metadata": {},
   "outputs": [
    {
     "data": {
      "text/plain": [
       "array(['setosa', 'versicolor', 'virginica'], dtype='<U10')"
      ]
     },
     "execution_count": 20,
     "metadata": {},
     "output_type": "execute_result"
    }
   ],
   "source": [
    "# Target names\n",
    "target_names = iris.target_names\n",
    "target_names"
   ]
  },
  {
   "cell_type": "markdown",
   "id": "938dc93f",
   "metadata": {},
   "source": [
    "### 3.3 Split dataset into training and test sets<a id=\"Split-data-set-into-training-and-test-sets-sklearn\"/>"
   ]
  },
  {
   "cell_type": "code",
   "execution_count": 21,
   "id": "dbab8394",
   "metadata": {},
   "outputs": [],
   "source": [
    "# Split the dataset into training and test sets using sklearn train_test_split\n",
    "X_train, X_test, y_train, y_test = train_test_split(X, y, test_size=0.2)"
   ]
  },
  {
   "cell_type": "markdown",
   "id": "c7b5d5aa",
   "metadata": {},
   "source": [
    "### 3.4 Standardize the features<a id=\"Standardize-the-features-sklearn\"/>"
   ]
  },
  {
   "cell_type": "code",
   "execution_count": 22,
   "id": "92bec321",
   "metadata": {},
   "outputs": [
    {
     "data": {
      "text/plain": [
       "(array([[-0.04554992, -0.80343511,  0.78299984,  0.94136029],\n",
       "        [-0.41823111,  2.61543769, -1.36035361, -1.32056549],\n",
       "        [ 0.82403952, -0.11966055,  1.01471373,  0.80830583],\n",
       "        [-0.41823111,  1.01996372, -1.41828208, -1.32056549],\n",
       "        [-0.41823111, -1.71513452,  0.14578665,  0.14303354]]),\n",
       " array([[ 0.69981246, -0.57551025,  1.0726422 ,  1.34052366],\n",
       "        [ 0.69981246, -0.3475854 ,  0.31957207,  0.14303354],\n",
       "        [-0.04554992,  2.15958798, -1.47621055, -1.32056549],\n",
       "        [-0.29400405, -0.57551025,  0.6671429 ,  1.07441475],\n",
       "        [ 2.19053723, -0.11966055,  1.65192692,  1.2074692 ]]))"
      ]
     },
     "execution_count": 22,
     "metadata": {},
     "output_type": "execute_result"
    }
   ],
   "source": [
    "# Standardize the features using StandardScaler from Scikit-Learn\n",
    "sc = StandardScaler()\n",
    "X_train_std = sc.fit_transform(X_train)\n",
    "X_test_std = sc.transform(X_test)\n",
    "X_train_std[:5], X_test_std[:5]"
   ]
  },
  {
   "cell_type": "markdown",
   "id": "9a225e6e",
   "metadata": {},
   "source": [
    "### 3.5 Decide on number of principal componenets to include<a id=\"Decide-number-of-principal-componenets-to-include-sklearn\"/>\n",
    "Run PCA without specifying the number of principal components. This is used to decide how many principal components to include when performing PCA."
   ]
  },
  {
   "cell_type": "code",
   "execution_count": 23,
   "id": "b3c29c3a",
   "metadata": {},
   "outputs": [],
   "source": [
    "# Create instance of PCA object\n",
    "pca_wo_pc = PCA()\n",
    "\n",
    "# Transform and fit on training dataset\n",
    "pca_train_std_wo_pc = pca_wo_pc.fit_transform(X_train_std)\n",
    "\n",
    "# Transform test dataset\n",
    "pca_test_std_wo_pc = pca_wo_pc.transform(X_test_std)"
   ]
  },
  {
   "cell_type": "code",
   "execution_count": 24,
   "id": "ff69bfd0",
   "metadata": {},
   "outputs": [
    {
     "name": "stdout",
     "output_type": "stream",
     "text": [
      "Variance per component:\n",
      "[0.72848922 0.22892778 0.03706583 0.00551717]\n",
      "Cumulative variance:\n",
      "[0.72848922 0.957417   0.99448283 1.        ]\n"
     ]
    }
   ],
   "source": [
    "# Explained variance principal component\n",
    "var_per_component = pca_wo_pc.explained_variance_ratio_\n",
    "\n",
    "# Cumulative variance\n",
    "cumulative_var = np.cumsum(pca_wo_pc.explained_variance_ratio_)\n",
    "\n",
    "print(f\"Variance per component:\\n{var_per_component}\")\n",
    "print(f\"Cumulative variance:\\n{cumulative_var}\")"
   ]
  },
  {
   "cell_type": "markdown",
   "id": "a7fb82a0",
   "metadata": {},
   "source": [
    "We can see that the first two principal components can explain the majority of the variance - approx. 96%."
   ]
  },
  {
   "cell_type": "markdown",
   "id": "a4660410",
   "metadata": {},
   "source": [
    "### 3.6 Run PCA with specified number of principal components<a id=\"Run-PCA-with-specified-number-of-principal-components-sklearn\"/>\n",
    "Creates feature matrix and target vector to be used by chosen machine learning model."
   ]
  },
  {
   "cell_type": "code",
   "execution_count": 25,
   "id": "3d6c7a01",
   "metadata": {},
   "outputs": [],
   "source": [
    "# Create instance of PCA object\n",
    "pca = PCA(n_components=2) # We choose two principal components\n",
    "\n",
    "# Transform and fit on training dataset\n",
    "X_train = pca.fit_transform(X_train_std)\n",
    "\n",
    "# Transform test dataset\n",
    "X_test = pca.transform(X_test_std)"
   ]
  },
  {
   "cell_type": "markdown",
   "id": "b4e61b16",
   "metadata": {},
   "source": [
    "## 4. PCA for visualizing a n-dimensional dataset in 2 dimensions<a id=\"PCA-for-visualizing-a-n-dimensional-dataset-in-2-dimensions-visualization\"/>\n",
    "The following will go through the process of transforming a n-dimensional dataset (in this case 4) to a 2 dimensional for visualisation purposes."
   ]
  },
  {
   "cell_type": "markdown",
   "id": "920d483a",
   "metadata": {},
   "source": [
    "### 4.1 Preparations<a id=\"Preparations-visualization\"/>"
   ]
  },
  {
   "cell_type": "code",
   "execution_count": 26,
   "id": "92a91224",
   "metadata": {},
   "outputs": [],
   "source": [
    "# Import required libraries\n",
    "from sklearn.datasets import load_iris\n",
    "from sklearn.decomposition import PCA\n",
    "from sklearn.preprocessing import StandardScaler\n",
    "import pandas as pd\n",
    "import matplotlib.pyplot as plt\n",
    "import seaborn as sb\n",
    "%matplotlib inline"
   ]
  },
  {
   "cell_type": "markdown",
   "id": "37fbc80e",
   "metadata": {},
   "source": [
    "### 4.2 Load the data<a id=\"Load-the-data-visualization\"/>\n",
    "We'll use the well-known Iris dataset, which can be loaded using the sklearn library."
   ]
  },
  {
   "cell_type": "code",
   "execution_count": 27,
   "id": "65d2d73f",
   "metadata": {},
   "outputs": [],
   "source": [
    "# Load iris data\n",
    "iris = load_iris()"
   ]
  },
  {
   "cell_type": "code",
   "execution_count": 28,
   "id": "6bfb671b",
   "metadata": {},
   "outputs": [
    {
     "data": {
      "text/plain": [
       "array([[5.1, 3.5, 1.4, 0.2],\n",
       "       [4.9, 3. , 1.4, 0.2],\n",
       "       [4.7, 3.2, 1.3, 0.2],\n",
       "       [4.6, 3.1, 1.5, 0.2],\n",
       "       [5. , 3.6, 1.4, 0.2]])"
      ]
     },
     "execution_count": 28,
     "metadata": {},
     "output_type": "execute_result"
    }
   ],
   "source": [
    "# Create the feature matrix\n",
    "X = iris.data\n",
    "X[:5]"
   ]
  },
  {
   "cell_type": "code",
   "execution_count": 29,
   "id": "43226668",
   "metadata": {},
   "outputs": [
    {
     "data": {
      "text/plain": [
       "array([0, 0, 0, 0, 0, 0, 0, 0, 0, 0, 0, 0, 0, 0, 0, 0, 0, 0, 0, 0, 0, 0,\n",
       "       0, 0, 0, 0, 0, 0, 0, 0, 0, 0, 0, 0, 0, 0, 0, 0, 0, 0, 0, 0, 0, 0,\n",
       "       0, 0, 0, 0, 0, 0, 1, 1, 1, 1, 1, 1, 1, 1, 1, 1, 1, 1, 1, 1, 1, 1,\n",
       "       1, 1, 1, 1, 1, 1, 1, 1, 1, 1, 1, 1, 1, 1, 1, 1, 1, 1, 1, 1, 1, 1,\n",
       "       1, 1, 1, 1, 1, 1, 1, 1, 1, 1, 1, 1, 2, 2, 2, 2, 2, 2, 2, 2, 2, 2,\n",
       "       2, 2, 2, 2, 2, 2, 2, 2, 2, 2, 2, 2, 2, 2, 2, 2, 2, 2, 2, 2, 2, 2,\n",
       "       2, 2, 2, 2, 2, 2, 2, 2, 2, 2, 2, 2, 2, 2, 2, 2, 2, 2])"
      ]
     },
     "execution_count": 29,
     "metadata": {},
     "output_type": "execute_result"
    }
   ],
   "source": [
    "# Create the target vector\n",
    "y = iris[\"target\"]\n",
    "y"
   ]
  },
  {
   "cell_type": "code",
   "execution_count": 30,
   "id": "e6ecace0",
   "metadata": {},
   "outputs": [
    {
     "data": {
      "text/plain": [
       "array(['setosa', 'versicolor', 'virginica'], dtype='<U10')"
      ]
     },
     "execution_count": 30,
     "metadata": {},
     "output_type": "execute_result"
    }
   ],
   "source": [
    "# Target names\n",
    "target_names = iris.target_names\n",
    "target_names"
   ]
  },
  {
   "cell_type": "markdown",
   "id": "4f43a363",
   "metadata": {},
   "source": [
    "### 4.3 Standardize the features<a id=\"Standardize-the-features-visualization\"/>"
   ]
  },
  {
   "cell_type": "code",
   "execution_count": 31,
   "id": "640bdcf0",
   "metadata": {},
   "outputs": [
    {
     "data": {
      "text/plain": [
       "array([[-0.90068117,  1.01900435, -1.34022653, -1.3154443 ],\n",
       "       [-1.14301691, -0.13197948, -1.34022653, -1.3154443 ],\n",
       "       [-1.38535265,  0.32841405, -1.39706395, -1.3154443 ],\n",
       "       [-1.50652052,  0.09821729, -1.2833891 , -1.3154443 ],\n",
       "       [-1.02184904,  1.24920112, -1.34022653, -1.3154443 ]])"
      ]
     },
     "execution_count": 31,
     "metadata": {},
     "output_type": "execute_result"
    }
   ],
   "source": [
    "# Standardize the features using StandardScaler from Scikit-Learn\n",
    "sc = StandardScaler()\n",
    "X_std = sc.fit_transform(X)\n",
    "X_std[:5]"
   ]
  },
  {
   "cell_type": "markdown",
   "id": "9c107360",
   "metadata": {},
   "source": [
    "### 4.4 Run PCA with two principal components<a id=\"Run-PCA-with-two-principal-components-visualization\"/>"
   ]
  },
  {
   "cell_type": "code",
   "execution_count": 32,
   "id": "bc3ab683",
   "metadata": {},
   "outputs": [],
   "source": [
    "# Create instance of PCA object\n",
    "pca = PCA(n_components=2) # We choose two principal components\n",
    "\n",
    "# Run PCA on dataset\n",
    "pca_std = pca.fit_transform(X_std)"
   ]
  },
  {
   "cell_type": "code",
   "execution_count": 33,
   "id": "039248f2",
   "metadata": {},
   "outputs": [
    {
     "data": {
      "text/html": [
       "<div>\n",
       "<style scoped>\n",
       "    .dataframe tbody tr th:only-of-type {\n",
       "        vertical-align: middle;\n",
       "    }\n",
       "\n",
       "    .dataframe tbody tr th {\n",
       "        vertical-align: top;\n",
       "    }\n",
       "\n",
       "    .dataframe thead th {\n",
       "        text-align: right;\n",
       "    }\n",
       "</style>\n",
       "<table border=\"1\" class=\"dataframe\">\n",
       "  <thead>\n",
       "    <tr style=\"text-align: right;\">\n",
       "      <th></th>\n",
       "      <th>PC1</th>\n",
       "      <th>PC2</th>\n",
       "      <th>Target</th>\n",
       "    </tr>\n",
       "  </thead>\n",
       "  <tbody>\n",
       "    <tr>\n",
       "      <th>0</th>\n",
       "      <td>-2.264703</td>\n",
       "      <td>0.480027</td>\n",
       "      <td>setosa</td>\n",
       "    </tr>\n",
       "    <tr>\n",
       "      <th>1</th>\n",
       "      <td>-2.080961</td>\n",
       "      <td>-0.674134</td>\n",
       "      <td>setosa</td>\n",
       "    </tr>\n",
       "    <tr>\n",
       "      <th>2</th>\n",
       "      <td>-2.364229</td>\n",
       "      <td>-0.341908</td>\n",
       "      <td>setosa</td>\n",
       "    </tr>\n",
       "    <tr>\n",
       "      <th>3</th>\n",
       "      <td>-2.299384</td>\n",
       "      <td>-0.597395</td>\n",
       "      <td>setosa</td>\n",
       "    </tr>\n",
       "    <tr>\n",
       "      <th>4</th>\n",
       "      <td>-2.389842</td>\n",
       "      <td>0.646835</td>\n",
       "      <td>setosa</td>\n",
       "    </tr>\n",
       "  </tbody>\n",
       "</table>\n",
       "</div>"
      ],
      "text/plain": [
       "        PC1       PC2  Target\n",
       "0 -2.264703  0.480027  setosa\n",
       "1 -2.080961 -0.674134  setosa\n",
       "2 -2.364229 -0.341908  setosa\n",
       "3 -2.299384 -0.597395  setosa\n",
       "4 -2.389842  0.646835  setosa"
      ]
     },
     "execution_count": 33,
     "metadata": {},
     "output_type": "execute_result"
    }
   ],
   "source": [
    "# Create pandas DataFrame from new, reduced, dataset\n",
    "df = pd.DataFrame(data=pca_std, columns=[\"PC1\", \"PC2\"])\n",
    "\n",
    "# Concatinate with target variables\n",
    "df = pd.concat([df, pd.DataFrame(data=y, columns=[\"Target\"])], axis=1)\n",
    "\n",
    "# Rename Target vector\n",
    "df[\"Target\"] = target_names[df[\"Target\"]]\n",
    "df[:5]"
   ]
  },
  {
   "cell_type": "markdown",
   "id": "2f4bf1d3",
   "metadata": {},
   "source": [
    "### 4.5 Plot the data<a id=\"Plot-the-data-visualization\"/>"
   ]
  },
  {
   "cell_type": "code",
   "execution_count": 34,
   "id": "e9b709ec",
   "metadata": {},
   "outputs": [
    {
     "data": {
      "image/png": "[encoded data removed]",
      "text/plain": [
       "<Figure size 648x504 with 1 Axes>"
      ]
     },
     "metadata": {
      "needs_background": "light"
     },
     "output_type": "display_data"
    }
   ],
   "source": [
    "# Create plot for visualizing results\n",
    "plt.figure(figsize=(9,7))\n",
    "sb.scatterplot(data=df, x=\"PC1\", y=\"PC2\", hue=df[\"Target\"], s=50, palette=\"icefire\")\n",
    "plt.title(\"PCA for IRIS Dataset\")\n",
    "plt.xlabel(\"Principal Component 1\")\n",
    "plt.ylabel(\"Principal Component 2\")\n",
    "plt.legend(loc=\"lower right\")\n",
    "plt.show()"
   ]
  }
 ],
 "metadata": {
  "kernelspec": {
   "display_name": "Python 3 (ipykernel)",
   "language": "python",
   "name": "python3"
  },
  "language_info": {
   "codemirror_mode": {
    "name": "ipython",
    "version": 3
   },
   "file_extension": ".py",
   "mimetype": "text/x-python",
   "name": "python",
   "nbconvert_exporter": "python",
   "pygments_lexer": "ipython3",
   "version": "3.9.2"
  }
 },
 "nbformat": 4,
 "nbformat_minor": 5
}
